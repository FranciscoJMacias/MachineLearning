{
 "cells": [
  {
   "cell_type": "markdown",
   "metadata": {},
   "source": [
    "# Instalación del Entorno"
   ]
  },
  {
   "cell_type": "markdown",
   "metadata": {},
   "source": [
    "## Instalar Anaconda y Python 3.6"
   ]
  },
  {
   "cell_type": "markdown",
   "metadata": {},
   "source": [
    "**Anaconda** es una distribución libre y abierta de Python (y R), la cual es muy utilizada en Data Science y Machine Learning. Funciona como gestor de entorno, gestor de paquetes y contiene una gran cantidad de paquetes de codigo abierto.\n",
    "\n",
    "Descargar la version de 64-Bit de Anaconda desde https://www.anaconda.com/distribution/ e instalar.\n",
    "\n",
    "\n",
    "Una vez esté instalada comprobaremos que se ha instalado correctamente también Python. Para ello introducimos en linea de comando la siguiente orden:\n",
    "\n",
    "`python -V`\n",
    "\n",
    "Así verificamos la versión de Python instalada en nuestro sistema.\n",
    "\n",
    "Anaconda también incluye **Jupyter**, herramienta con la cual trabajaremos en adelante.\n",
    "\n",
    "Es interesante loguearse en Anaconda Navigator de forma que todo nuestro trabajo se guarde en la nube de forma gratuita."
   ]
  },
  {
   "cell_type": "markdown",
   "metadata": {},
   "source": [
    "## Instalar pip"
   ]
  },
  {
   "cell_type": "markdown",
   "metadata": {},
   "source": [
    "Pip es un sistema de gestion de paquetes usado para instalar y administrar paquetes de Python. Una de las grandes ventajas de pip es su facilidad de uso.\n",
    "\n",
    "Para **instalar pip** en Windows 10 hay que:\n",
    "\n",
    "1. Descargue el script del instalador **get-pip.py**(https://bootstrap.pypa.io/get-pip.py).\n",
    "\n",
    "2. Navegar hasta el archivo **get-pip.py**.\n",
    "\n",
    "3. Ejecutar la orden: `python get-pip.py`\n",
    "\n",
    "Es interesante, una vez instalado, **actualizar pip**:\n",
    "`pip install --upgrade pip`\n",
    "\n",
    "\n",
    "Para **instalar un paquete** con pip sólo se necesita usar la orden:\n",
    "\n",
    "`pip install nombre-paquete`\n",
    "\n",
    "y para **desinstalar un paquete**:\n",
    "\n",
    "`pip uninstall nombre-paquete`"
   ]
  },
  {
   "cell_type": "markdown",
   "metadata": {},
   "source": [
    "## Instalar Paquetes Básicos "
   ]
  },
  {
   "cell_type": "markdown",
   "metadata": {},
   "source": [
    "**pandas:**\n",
    "\n",
    "Nos ayuda a leer datasets, calcular estadisticas varias, ejecutar operaciones con conjuntos, tratar outliers...\n",
    "\n",
    "`pip install pandas`\n",
    "\n",
    "\n",
    "**NumPy:**\n",
    "\n",
    "Nos ayuda a trabajar con operaciones de cáculo numérico(matrices).\n",
    "\n",
    "`pip install NumPy`\n",
    "\n",
    "\n",
    "**matplotlib:**\n",
    "\n",
    "Nos ayuda con la generación de representaciones gráficas.\n",
    "\n",
    "`pip install matplotlib`\n",
    "\n",
    "\n",
    "**iPython:**\n",
    "\n",
    "Nos permite hacer calculos interactivos. Es lo que nos permite trabajar con notebooks.\n",
    "\n",
    "`pip install iPython`\n",
    "\n",
    "\n",
    "**scikit-learn:**\n",
    "\n",
    "Es la libreria usada para análisis predictivos, con una gran cantidad de algoritmos muy usados.\n",
    "\n",
    "`pip install scikit-learn`\n",
    "\n",
    "\n",
    "*Es posible que muchos de estos paquetes ya estén instalados porque se han instalado con Anaconda*\n"
   ]
  },
  {
   "cell_type": "code",
   "execution_count": null,
   "metadata": {},
   "outputs": [],
   "source": []
  }
 ],
 "metadata": {
  "kernelspec": {
   "display_name": "Python 3",
   "language": "python",
   "name": "python3"
  },
  "language_info": {
   "codemirror_mode": {
    "name": "ipython",
    "version": 3
   },
   "file_extension": ".py",
   "mimetype": "text/x-python",
   "name": "python",
   "nbconvert_exporter": "python",
   "pygments_lexer": "ipython3",
   "version": "3.7.4"
  }
 },
 "nbformat": 4,
 "nbformat_minor": 2
}
